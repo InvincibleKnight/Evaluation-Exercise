{
 "cells": [
  {
   "cell_type": "markdown",
   "metadata": {},
   "source": [
    "# Darshit Trevadia's Attempt to Evaluation Task"
   ]
  },
  {
   "cell_type": "markdown",
   "metadata": {},
   "source": [
    "## Look into the dataset"
   ]
  },
  {
   "cell_type": "markdown",
   "metadata": {},
   "source": [
    "# Data Cleaning\n",
    "Since we want to data which is not properly structured we first clean our data for it to fit the structure of the given pre-existing model."
   ]
  },
  {
   "cell_type": "code",
   "execution_count": 1,
   "metadata": {
    "scrolled": true
   },
   "outputs": [],
   "source": [
    "import csv \n",
    "import pandas as pd\n",
    "# Change the path to the point where you have stored the files\n",
    "\n",
    "filename =\"./content/monojet_Zp2000.0_DM_50.0_chan3.csv\"\n",
    "\n",
    "\n",
    "event_dict = {}\n",
    "lst = []\n",
    "\n",
    "with open(filename, 'r') as data:\n",
    "    i = 0\n",
    "    for rows in data:\n",
    "        events = rows.split(\";\") #splitting the row at ';' separator\n",
    "        for event in events[5:]: # Skip the event ID, process ID, event weight, MET, METphi columns\n",
    "            if event[0] == 'j':  # check for obj ID\n",
    "                lst.append(event[2:]) \n",
    "        event_dict[i] = lst\n",
    "        lst = []\n",
    "        i += 1\n",
    "\n",
    "\n",
    "count = 0\n",
    "four_momentum = [ \"E\", \"pt\", \"eta\", \"phi\"]\n",
    "property_dict = {} \n",
    "\n",
    "for event in event_dict.values():\n",
    "    for i in range(0,len(event)):\n",
    "        key = count + i/10.0 # Giving a unique ID to each obj of an event\n",
    "        properties = [float(idx) for idx in event[i].split(',')]\n",
    "        for prop in properties:\n",
    "            property_dict[key] = properties\n",
    "    count += 1\n"
   ]
  },
  {
   "cell_type": "markdown",
   "metadata": {},
   "source": [
    "### Labeling the data "
   ]
  },
  {
   "cell_type": "code",
   "execution_count": 2,
   "metadata": {},
   "outputs": [
    {
     "name": "stdout",
     "output_type": "stream",
     "text": [
      "          E        pt       eta      phi\n",
      "0  258722.0  243675.0  0.328962  2.25014\n",
      "1  520092.0  108590.0 -2.247300 -1.85679\n",
      "2  383024.0   88405.6  2.145160 -1.95635\n",
      "3   39507.6   35365.1  0.470460 -1.16445\n",
      "4  225430.0   26878.2 -2.816080 -2.25938\n"
     ]
    }
   ],
   "source": [
    "df = pd.DataFrame(property_dict.items())\n",
    "df = pd.DataFrame(df[1].to_list(), columns=four_momentum)\n",
    "df_raw = df.copy()\n",
    "with pd.option_context('display.max_rows', None, 'display.max_columns', None):\n",
    "    print(df.head())"
   ]
  },
  {
   "cell_type": "markdown",
   "metadata": {},
   "source": [
    "# Working With The Data\n",
    "\n",
    "Now that we have structured data at hand we get it ready for input"
   ]
  },
  {
   "cell_type": "markdown",
   "metadata": {},
   "source": [
    "## Normalizing the Data"
   ]
  },
  {
   "cell_type": "code",
   "execution_count": 3,
   "metadata": {},
   "outputs": [],
   "source": [
    "# custom_normalize() is defined corresponding to the custom_unnormalized() function. \n",
    "def custom_normalize(df):\n",
    "    df['E'] = np.log10(df['E'])\n",
    "    df['pt'] = np.log10(df['pt'])\n",
    "    df['eta'] = df['eta'] / 5\n",
    "    df['phi'] = df['phi'] / 3\n",
    "    return df"
   ]
  },
  {
   "cell_type": "markdown",
   "metadata": {},
   "source": [
    "Making training and tesing sets"
   ]
  },
  {
   "cell_type": "code",
   "execution_count": 4,
   "metadata": {
    "scrolled": true
   },
   "outputs": [
    {
     "name": "stdout",
     "output_type": "stream",
     "text": [
      "          E        pt       eta       phi\n",
      "0  5.412833  5.386811  0.065792  0.750047\n",
      "1  5.716080  5.035790 -0.449460 -0.618930\n",
      "2  5.583226  4.946480  0.429032 -0.652117\n",
      "3  4.596681  4.548575  0.094092 -0.388150\n",
      "4  5.353012  4.429400 -0.563216 -0.753127\n"
     ]
    }
   ],
   "source": [
    "import sklearn\n",
    "import numpy as np\n",
    "from sklearn import datasets, linear_model\n",
    "from sklearn.model_selection import train_test_split\n",
    "\n",
    "df_scaled = custom_normalize(df)\n",
    "print(df_scaled.head())\n",
    "\n",
    "train, test = train_test_split(df_scaled, test_size=0.2, random_state=4, shuffle=True) #Note: Train and Test have normalized data\n"
   ]
  },
  {
   "cell_type": "markdown",
   "metadata": {},
   "source": [
    "# Printing Data"
   ]
  },
  {
   "cell_type": "code",
   "execution_count": 5,
   "metadata": {},
   "outputs": [
    {
     "name": "stdout",
     "output_type": "stream",
     "text": [
      "Training sample:\n",
      "              E        pt       eta       phi\n",
      "11617  5.263889  5.248902 -0.003008  0.010441\n",
      "15629  5.070030  4.625729 -0.335054 -0.009473\n",
      "11879  5.357687  4.517987  0.524074 -0.646643\n",
      "10290  5.405123  5.354719  0.092444  1.037000\n",
      "19751  5.708621  5.693264  0.051152  0.495497\n",
      "\n",
      "\n",
      "Testing sample:\n",
      "              E        pt       eta       phi\n",
      "14034  5.628374  5.500614  0.157239 -0.150383\n",
      "20948  5.784290  5.714161  0.111069 -0.978787\n",
      "17203  5.240342  5.222134 -0.050020 -0.541510\n",
      "8005   4.768635  4.743255 -0.061112  0.227999\n",
      "10138  5.309507  4.754392  0.389814 -0.350323\n",
      "\n",
      "\n",
      "The number of entries in the training data: 18128\n",
      "The number of entries in the validation data: 4532\n"
     ]
    }
   ],
   "source": [
    "print('Training sample:')\n",
    "print(train.head())\n",
    "\n",
    "print('\\n')\n",
    "\n",
    "print('Testing sample:')\n",
    "print(test.head())\n",
    "\n",
    "print('\\n')\n",
    "\n",
    "print('The number of entries in the training data:', len(train))\n",
    "print('The number of entries in the validation data:', len(test))"
   ]
  },
  {
   "cell_type": "markdown",
   "metadata": {},
   "source": [
    "Now we plot the data using the matplotlib library. The units reflect the normalization, but it's the shape that we care about. "
   ]
  },
  {
   "cell_type": "markdown",
   "metadata": {},
   "source": [
    "## Plotting Raw data plots"
   ]
  },
  {
   "cell_type": "code",
   "execution_count": 6,
   "metadata": {},
   "outputs": [],
   "source": [
    "# import matplotlib.pyplot as plt\n",
    "\n",
    "# variable_list = [r'$E$', r'$p_T$', r'$\\eta$', r'$\\phi$']\n",
    "\n",
    "# branches=four_momentum\n",
    "\n",
    "# n_bins = 100\n",
    "\n",
    "# for kk in range(0,4):\n",
    "#     n_hist_data, bin_edges, _ = plt.hist(df_raw[branches[kk]], color='gray', label='Input', alpha=1, bins=n_bins)\n",
    "#     plt.xlabel(xlabel=variable_list[kk])\n",
    "#     plt.ylabel('# of events')\n",
    "#     plt.savefig(\"./raw_plots/raw_data_\"+branches[kk],dpi=300)\n",
    "#     plt.title(variable_list[kk]+\" Raw Plot\")\n",
    "#     plt.show()"
   ]
  },
  {
   "cell_type": "markdown",
   "metadata": {},
   "source": [
    "## Plotting Normalized data plots"
   ]
  },
  {
   "cell_type": "code",
   "execution_count": 7,
   "metadata": {},
   "outputs": [
    {
     "data": {
      "image/png": "[encoded data removed]",
      "text/plain": [
       "<Figure size 432x288 with 1 Axes>"
      ]
     },
     "metadata": {
      "needs_background": "light"
     },
     "output_type": "display_data"
    },
    {
     "data": {
      "image/png": "[encoded data removed]",
      "text/plain": [
       "<Figure size 432x288 with 1 Axes>"
      ]
     },
     "metadata": {
      "needs_background": "light"
     },
     "output_type": "display_data"
    },
    {
     "data": {
      "image/png": "[encoded data removed]",
      "text/plain": [
       "<Figure size 432x288 with 1 Axes>"
      ]
     },
     "metadata": {
      "needs_background": "light"
     },
     "output_type": "display_data"
    },
    {
     "data": {
      "image/png": "[encoded data removed]",
      "text/plain": [
       "<Figure size 432x288 with 1 Axes>"
      ]
     },
     "metadata": {
      "needs_background": "light"
     },
     "output_type": "display_data"
    }
   ],
   "source": [
    "import matplotlib.pyplot as plt\n",
    "variable_list = [r'$E$', r'$p_T$', r'$\\eta$', r'$\\phi$']\n",
    "\n",
    "branches=four_momentum\n",
    "\n",
    "n_bins = 100\n",
    "\n",
    "for kk in range(0,4):\n",
    "    n_hist_data, bin_edges, _ = plt.hist(train[branches[kk]], color='gray', label='Input', alpha=1, bins=n_bins)\n",
    "    plt.xlabel(xlabel=variable_list[kk])\n",
    "    plt.ylabel('# of events')\n",
    "    plt.savefig(\"./normalized_plots/four-momentum_train_normalized_\"+branches[kk],dpi=300)\n",
    "    plt.title(variable_list[kk]+\" Normalized Plot\")\n",
    "    plt.show()"
   ]
  },
  {
   "cell_type": "markdown",
   "metadata": {},
   "source": [
    "## Setting up the network"
   ]
  },
  {
   "cell_type": "markdown",
   "metadata": {},
   "source": [
    "### Preparing the data"
   ]
  },
  {
   "cell_type": "markdown",
   "metadata": {},
   "source": [
    "Adding the two datasets as TensorDatasets to PyTorch (also loading all other classes we'll need later)"
   ]
  },
  {
   "cell_type": "code",
   "execution_count": 8,
   "metadata": {},
   "outputs": [
    {
     "name": "stderr",
     "output_type": "stream",
     "text": [
      "/home/darshitt/miniconda3/lib/python3.8/site-packages/torch/cuda/__init__.py:52: UserWarning: CUDA initialization: Found no NVIDIA driver on your system. Please check that you have an NVIDIA GPU and installed a driver from http://www.nvidia.com/Download/index.aspx (Triggered internally at  /opt/conda/conda-bld/pytorch_1607370172916/work/c10/cuda/CUDAFunctions.cpp:100.)\n",
      "  return torch._C._cuda_getDeviceCount() > 0\n"
     ]
    }
   ],
   "source": [
    "import torch\n",
    "import torch.nn as nn\n",
    "import torch.optim as optim\n",
    "import torch.utils.data\n",
    "from torch.autograd import Variable\n",
    "\n",
    "from torch.utils.data import TensorDataset\n",
    "from torch.utils.data import DataLoader\n",
    "\n",
    "from fastai import learner\n",
    "from fastai.data import core\n",
    "\n",
    "\n",
    "train_x = train\n",
    "test_x = test\n",
    "train_y = train_x  # y = x since we are building an autoencoder\n",
    "test_y = test_x\n",
    "\n",
    "# Constructs a tensor object of the data and wraps them in a TensorDataset object.\n",
    "train_ds = TensorDataset(torch.tensor(train_x.values, dtype=torch.float), torch.tensor(train_y.values, dtype=torch.float))\n",
    "valid_ds = TensorDataset(torch.tensor(test_x.values, dtype=torch.float), torch.tensor(test_y.values, dtype=torch.float))"
   ]
  },
  {
   "cell_type": "markdown",
   "metadata": {},
   "source": [
    "We now set things up to load the data, and we use a batch size that was optimized by previous students...note also that this is fastai v2, migration thanks to Jessica Lastow."
   ]
  },
  {
   "cell_type": "code",
   "execution_count": 9,
   "metadata": {},
   "outputs": [],
   "source": [
    "bs = 256\n",
    "\n",
    "# Converts the TensorDataset into a DataLoader object and combines into one DataLoaders object (a basic wrapper\n",
    "# around several DataLoader objects). \n",
    "train_dl = DataLoader(train_ds, batch_size=bs, shuffle=True)\n",
    "valid_dl = DataLoader(valid_ds, batch_size=bs * 2)\n",
    "dls = core.DataLoaders(train_dl, valid_dl)"
   ]
  },
  {
   "cell_type": "markdown",
   "metadata": {},
   "source": [
    "### Preparing the network"
   ]
  },
  {
   "cell_type": "markdown",
   "metadata": {},
   "source": [
    "Here we have an example network. Details aren't too important, as long as they match what was already trained for us...in this case we have a LeakyReLU, tanh activation function, and a number of layers that goes from 4 to 200 to 20 to 3 (number of features in the hidden layer that we pick for testing compression) and then back all the way to 4. "
   ]
  },
  {
   "cell_type": "code",
   "execution_count": 10,
   "metadata": {},
   "outputs": [
    {
     "data": {
      "text/plain": [
       "AE_3D_200_LeakyReLU(\n",
       "  (en1): Linear(in_features=4, out_features=200, bias=True)\n",
       "  (en2): Linear(in_features=200, out_features=200, bias=True)\n",
       "  (en3): Linear(in_features=200, out_features=20, bias=True)\n",
       "  (en4): Linear(in_features=20, out_features=3, bias=True)\n",
       "  (de1): Linear(in_features=3, out_features=20, bias=True)\n",
       "  (de2): Linear(in_features=20, out_features=200, bias=True)\n",
       "  (de3): Linear(in_features=200, out_features=200, bias=True)\n",
       "  (de4): Linear(in_features=200, out_features=4, bias=True)\n",
       "  (tanh): Tanh()\n",
       ")"
      ]
     },
     "execution_count": 10,
     "metadata": {},
     "output_type": "execute_result"
    }
   ],
   "source": [
    "class AE_3D_200_LeakyReLU(nn.Module):\n",
    "    def __init__(self, n_features=4):\n",
    "        super(AE_3D_200_LeakyReLU, self).__init__()\n",
    "        self.en1 = nn.Linear(n_features, 200)\n",
    "        self.en2 = nn.Linear(200, 200)\n",
    "        self.en3 = nn.Linear(200, 20)\n",
    "        self.en4 = nn.Linear(20, 3)\n",
    "        self.de1 = nn.Linear(3, 20)\n",
    "        self.de2 = nn.Linear(20, 200)\n",
    "        self.de3 = nn.Linear(200, 200)\n",
    "        self.de4 = nn.Linear(200, n_features)\n",
    "        self.tanh = nn.Tanh()\n",
    "\n",
    "    def encode(self, x):\n",
    "        return self.en4(self.tanh(self.en3(self.tanh(self.en2(self.tanh(self.en1(x)))))))\n",
    "\n",
    "    def decode(self, x):\n",
    "        return self.de4(self.tanh(self.de3(self.tanh(self.de2(self.tanh(self.de1(self.tanh(x))))))))\n",
    "\n",
    "    def forward(self, x):\n",
    "        z = self.encode(x)\n",
    "        return self.decode(z)\n",
    "\n",
    "    def describe(self):\n",
    "        return 'in-200-200-20-3-20-200-200-out'\n",
    "\n",
    "#model = AE_3D_200_LeakyReLU().double()\n",
    "model = AE_3D_200_LeakyReLU()\n",
    "model.to('cpu')"
   ]
  },
  {
   "cell_type": "markdown",
   "metadata": {},
   "source": [
    "We now have to pick a loss function - MSE loss is appropriate for a compression autoencoder since it reflects the [(input-output)/input] physical quantity that we want to minimize. "
   ]
  },
  {
   "cell_type": "code",
   "execution_count": 11,
   "metadata": {},
   "outputs": [],
   "source": [
    "from fastai.metrics import mse\n",
    "\n",
    "loss_func = nn.MSELoss()\n",
    "\n",
    "#bn_wd = False  # Don't use weight decay for batchnorm layers\n",
    "#true_wd = True  # weight decay will be used for all optimizers\n",
    "wd = 1e-6\n",
    "\n",
    "recorder = learner.Recorder()\n",
    "learn = learner.Learner(dls, model=model, wd=wd, loss_func=loss_func, cbs=recorder)\n",
    "#was: learn = basic_train.Learner(data=db, model=model, loss_func=loss_func, wd=wd, callback_fns=ActivationStats, bn_wd=bn_wd, true_wd=true_wd)"
   ]
  },
  {
   "cell_type": "markdown",
   "metadata": {},
   "source": [
    "## Training a new network"
   ]
  },
  {
   "cell_type": "markdown",
   "metadata": {},
   "source": [
    "Instead of using a pre-trained network, an alternative is to train a new network and use that instead. "
   ]
  },
  {
   "cell_type": "markdown",
   "metadata": {},
   "source": [
    "First, we want to find the best learning rate. The learning rate is a hyper-paramater that sets how much the weights of the network will change each step with respect to the loss gradient.\n",
    "\n",
    "Then we plot the loss versus the learning rates. We're interested in finding a good order of magnitude of learning rate, so we plot with a log scale.\n",
    "\n",
    "A good value for the learning rates is then either:\n",
    "- one tenth of the minimum before the divergence\n",
    "- when the slope is the steepest"
   ]
  },
  {
   "cell_type": "code",
   "execution_count": 12,
   "metadata": {},
   "outputs": [
    {
     "name": "stdout",
     "output_type": "stream",
     "text": [
      "Learning rate with the minimum loss: 0.017378008365631102\n",
      "Learning rate with the steepest gradient: 0.0020892962347716093\n"
     ]
    },
    {
     "data": {
      "image/png": "[encoded data removed]",
      "text/plain": [
       "<Figure size 432x288 with 1 Axes>"
      ]
     },
     "metadata": {
      "needs_background": "light"
     },
     "output_type": "display_data"
    }
   ],
   "source": [
    "from fastai.callback import schedule\n",
    "\n",
    "lr_min, lr_steep = learn.lr_find()\n",
    "\n",
    "print('Learning rate with the minimum loss:', lr_min)\n",
    "print('Learning rate with the steepest gradient:', lr_steep)"
   ]
  },
  {
   "cell_type": "markdown",
   "metadata": {},
   "source": [
    "Now we want to run the training!\n",
    "\n",
    "User-chosen variables:\n",
    "- n_epoch: The number of epochs, i.e how many times the to run through all of the training data once (i.e the 1266046 entries, see cell 2)\n",
    "- lr: The learning rate. Either choose lr_min, lr_steep from above or set your own.\n"
   ]
  },
  {
   "cell_type": "code",
   "execution_count": 13,
   "metadata": {
    "scrolled": true
   },
   "outputs": [
    {
     "name": "stdout",
     "output_type": "stream",
     "text": [
      "[0, 1.3340814113616943, 0.36856022477149963, '00:00']\n",
      "[0, 1.3340814113616943, 0.36856022477149963, '00:00']\n",
      "[1, 0.4550364017486572, 0.22696112096309662, '00:00']\n",
      "[1, 0.4550364017486572, 0.22696112096309662, '00:00']\n",
      "[2, 0.2799386978149414, 0.22779448330402374, '00:00']\n",
      "[2, 0.2799386978149414, 0.22779448330402374, '00:00']\n",
      "[3, 0.2404382824897766, 0.22767287492752075, '00:00']\n",
      "[3, 0.2404382824897766, 0.22767287492752075, '00:00']\n",
      "[4, 0.23146574199199677, 0.22817422449588776, '00:00']\n",
      "[4, 0.23146574199199677, 0.22817422449588776, '00:00']\n",
      "[5, 0.23052017390727997, 0.2281021624803543, '00:00']\n",
      "[5, 0.23052017390727997, 0.2281021624803543, '00:00']\n",
      "[6, 0.2335476130247116, 0.24204355478286743, '00:01']\n",
      "[6, 0.2335476130247116, 0.24204355478286743, '00:01']\n",
      "[7, 0.23296715319156647, 0.23217757046222687, '00:01']\n",
      "[7, 0.23296715319156647, 0.23217757046222687, '00:01']\n",
      "[8, 0.2338467240333557, 0.235432967543602, '00:00']\n",
      "[8, 0.2338467240333557, 0.235432967543602, '00:00']\n",
      "[9, 0.2350008487701416, 0.2357998490333557, '00:00']\n",
      "[9, 0.2350008487701416, 0.2357998490333557, '00:00']\n",
      "[10, 0.2383480966091156, 0.235063835978508, '00:00']\n",
      "[10, 0.2383480966091156, 0.235063835978508, '00:00']\n",
      "[11, 0.20353828370571136, 0.1409366875886917, '00:00']\n",
      "[11, 0.20353828370571136, 0.1409366875886917, '00:00']\n",
      "[12, 0.15816326439380646, 0.14790980517864227, '00:01']\n",
      "[12, 0.15816326439380646, 0.14790980517864227, '00:01']\n",
      "[13, 0.14900276064872742, 0.13602836430072784, '00:00']\n",
      "[13, 0.14900276064872742, 0.13602836430072784, '00:00']\n",
      "[14, 0.14528757333755493, 0.13297340273857117, '00:00']\n",
      "[14, 0.14528757333755493, 0.13297340273857117, '00:00']\n",
      "[15, 0.13935844600200653, 0.08844877779483795, '00:00']\n",
      "[15, 0.13935844600200653, 0.08844877779483795, '00:00']\n",
      "[16, 0.08605649322271347, 0.06920993328094482, '00:00']\n",
      "[16, 0.08605649322271347, 0.06920993328094482, '00:00']\n",
      "[17, 0.07366491109132767, 0.06809435784816742, '00:00']\n",
      "[17, 0.07366491109132767, 0.06809435784816742, '00:00']\n",
      "[18, 0.07297179102897644, 0.05391431599855423, '00:00']\n",
      "[18, 0.07297179102897644, 0.05391431599855423, '00:00']\n",
      "[19, 0.06133163720369339, 0.06183188408613205, '00:00']\n",
      "[19, 0.06133163720369339, 0.06183188408613205, '00:00']\n",
      "[20, 0.07261797040700912, 0.06247861310839653, '00:00']\n",
      "[20, 0.07261797040700912, 0.06247861310839653, '00:00']\n",
      "[21, 0.07847185432910919, 0.10047876834869385, '00:00']\n",
      "[21, 0.07847185432910919, 0.10047876834869385, '00:00']\n",
      "[22, 0.06520012021064758, 0.10473674535751343, '00:00']\n",
      "[22, 0.06520012021064758, 0.10473674535751343, '00:00']\n",
      "[23, 0.06073097139596939, 0.06554194539785385, '00:00']\n",
      "[23, 0.06073097139596939, 0.06554194539785385, '00:00']\n",
      "[24, 0.07513114809989929, 0.15842388570308685, '00:00']\n",
      "[24, 0.07513114809989929, 0.15842388570308685, '00:00']\n",
      "[25, 0.0855231061577797, 0.03439564257860184, '00:00']\n",
      "[25, 0.0855231061577797, 0.03439564257860184, '00:00']\n",
      "[26, 0.05551118776202202, 0.03363801911473274, '00:00']\n",
      "[26, 0.05551118776202202, 0.03363801911473274, '00:00']\n",
      "[27, 0.04834787920117378, 0.025223616510629654, '00:00']\n",
      "[27, 0.04834787920117378, 0.025223616510629654, '00:00']\n",
      "[28, 0.038944441825151443, 0.019010841846466064, '00:00']\n",
      "[28, 0.038944441825151443, 0.019010841846466064, '00:00']\n",
      "[29, 0.04108541086316109, 0.057187825441360474, '00:00']\n",
      "[29, 0.04108541086316109, 0.057187825441360474, '00:00']\n",
      "[30, 0.04065181314945221, 0.040028754621744156, '00:00']\n",
      "[30, 0.04065181314945221, 0.040028754621744156, '00:00']\n",
      "[31, 0.04069023206830025, 0.08662165701389313, '00:00']\n",
      "[31, 0.04069023206830025, 0.08662165701389313, '00:00']\n",
      "[32, 0.04095920920372009, 0.042120471596717834, '00:00']\n",
      "[32, 0.04095920920372009, 0.042120471596717834, '00:00']\n",
      "[33, 0.038771919906139374, 0.026012172922492027, '00:00']\n",
      "[33, 0.038771919906139374, 0.026012172922492027, '00:00']\n",
      "[34, 0.035113416612148285, 0.06321118026971817, '00:00']\n",
      "[34, 0.035113416612148285, 0.06321118026971817, '00:00']\n",
      "[35, 0.03801745921373367, 0.021372327581048012, '00:00']\n",
      "[35, 0.03801745921373367, 0.021372327581048012, '00:00']\n",
      "[36, 0.03763054311275482, 0.031135784462094307, '00:00']\n",
      "[36, 0.03763054311275482, 0.031135784462094307, '00:00']\n",
      "[37, 0.029178524389863014, 0.01688343845307827, '00:00']\n",
      "[37, 0.029178524389863014, 0.01688343845307827, '00:00']\n",
      "[38, 0.03105851449072361, 0.0349346399307251, '00:00']\n",
      "[38, 0.03105851449072361, 0.0349346399307251, '00:00']\n",
      "[39, 0.027254126965999603, 0.042148251086473465, '00:00']\n",
      "[39, 0.027254126965999603, 0.042148251086473465, '00:00']\n",
      "[40, 0.029996655881404877, 0.02691376581788063, '00:00']\n",
      "[40, 0.029996655881404877, 0.02691376581788063, '00:00']\n",
      "[41, 0.03048240952193737, 0.024024881422519684, '00:00']\n",
      "[41, 0.03048240952193737, 0.024024881422519684, '00:00']\n",
      "[42, 0.026315227150917053, 0.01528427004814148, '00:00']\n",
      "[42, 0.026315227150917053, 0.01528427004814148, '00:00']\n",
      "[43, 0.02202724851667881, 0.06341162323951721, '00:00']\n",
      "[43, 0.02202724851667881, 0.06341162323951721, '00:00']\n",
      "[44, 0.02321680076420307, 0.010281057097017765, '00:00']\n",
      "[44, 0.02321680076420307, 0.010281057097017765, '00:00']\n",
      "[45, 0.01716507226228714, 0.014577158726751804, '00:00']\n",
      "[45, 0.01716507226228714, 0.014577158726751804, '00:00']\n",
      "[46, 0.02197970077395439, 0.02041821926832199, '00:00']\n",
      "[46, 0.02197970077395439, 0.02041821926832199, '00:00']\n",
      "[47, 0.016606051474809647, 0.08513759076595306, '00:00']\n",
      "[47, 0.016606051474809647, 0.08513759076595306, '00:00']\n",
      "[48, 0.017548052594065666, 0.011726798489689827, '00:00']\n",
      "[48, 0.017548052594065666, 0.011726798489689827, '00:00']\n",
      "[49, 0.022366469725966454, 0.010162953287363052, '00:00']\n",
      "[49, 0.022366469725966454, 0.010162953287363052, '00:00']\n",
      "[50, 0.015342787839472294, 0.013463801704347134, '00:00']\n",
      "[50, 0.015342787839472294, 0.013463801704347134, '00:00']\n",
      "[51, 0.013434035703539848, 0.01726744882762432, '00:00']\n",
      "[51, 0.013434035703539848, 0.01726744882762432, '00:00']\n",
      "[52, 0.013966258615255356, 0.012780614197254181, '00:00']\n",
      "[52, 0.013966258615255356, 0.012780614197254181, '00:00']\n",
      "[53, 0.010391575284302235, 0.007543026935309172, '00:00']\n",
      "[53, 0.010391575284302235, 0.007543026935309172, '00:00']\n",
      "[54, 0.010922013781964779, 0.02130141109228134, '00:00']\n",
      "[54, 0.010922013781964779, 0.02130141109228134, '00:00']\n",
      "[55, 0.010086426511406898, 0.0038051744922995567, '00:00']\n",
      "[55, 0.010086426511406898, 0.0038051744922995567, '00:00']\n",
      "[56, 0.008165317587554455, 0.004214204382151365, '00:00']\n",
      "[56, 0.008165317587554455, 0.004214204382151365, '00:00']\n",
      "[57, 0.00616898387670517, 0.004507096949964762, '00:00']\n",
      "[57, 0.00616898387670517, 0.004507096949964762, '00:00']\n",
      "[58, 0.007348283194005489, 0.0032981177791953087, '00:00']\n",
      "[58, 0.007348283194005489, 0.0032981177791953087, '00:00']\n",
      "[59, 0.005982588976621628, 0.00698520103469491, '00:00']\n",
      "[59, 0.005982588976621628, 0.00698520103469491, '00:00']\n",
      "[60, 0.005703586153686047, 0.0034614158794283867, '00:00']\n",
      "[60, 0.005703586153686047, 0.0034614158794283867, '00:00']\n",
      "[61, 0.004350385628640652, 0.0036880425177514553, '00:00']\n",
      "[61, 0.004350385628640652, 0.0036880425177514553, '00:00']\n",
      "[62, 0.0033633855637162924, 0.001466328278183937, '00:00']\n",
      "[62, 0.0033633855637162924, 0.001466328278183937, '00:00']\n",
      "[63, 0.0035191592760384083, 0.001837277552112937, '00:00']\n",
      "[63, 0.0035191592760384083, 0.001837277552112937, '00:00']\n",
      "[64, 0.003380145411938429, 0.0029554457869380713, '00:00']\n",
      "[64, 0.003380145411938429, 0.0029554457869380713, '00:00']\n",
      "[65, 0.0027725298423320055, 0.003327713580802083, '00:00']\n",
      "[65, 0.0027725298423320055, 0.003327713580802083, '00:00']\n",
      "[66, 0.0026226546615362167, 0.001866391976363957, '00:00']\n",
      "[66, 0.0026226546615362167, 0.001866391976363957, '00:00']\n",
      "[67, 0.0020749098621308804, 0.0036754910834133625, '00:00']\n",
      "[67, 0.0020749098621308804, 0.0036754910834133625, '00:00']\n",
      "[68, 0.0020864910911768675, 0.001557367853820324, '00:00']\n",
      "[68, 0.0020864910911768675, 0.001557367853820324, '00:00']\n",
      "[69, 0.0014064685674384236, 0.0029171458445489407, '00:00']\n",
      "[69, 0.0014064685674384236, 0.0029171458445489407, '00:00']\n",
      "[70, 0.0014338984619826078, 0.0010086523834615946, '00:00']\n",
      "[70, 0.0014338984619826078, 0.0010086523834615946, '00:00']\n",
      "[71, 0.0012613770086318254, 0.0006226514233276248, '00:00']\n",
      "[71, 0.0012613770086318254, 0.0006226514233276248, '00:00']\n",
      "[72, 0.0010353659745305777, 0.0010073812445625663, '00:00']\n",
      "[72, 0.0010353659745305777, 0.0010073812445625663, '00:00']\n"
     ]
    },
    {
     "name": "stdout",
     "output_type": "stream",
     "text": [
      "[73, 0.0008516180678270757, 0.0006824156153015792, '00:00']\n",
      "[73, 0.0008516180678270757, 0.0006824156153015792, '00:00']\n",
      "[74, 0.0010249793995171785, 0.0008200840675272048, '00:00']\n",
      "[74, 0.0010249793995171785, 0.0008200840675272048, '00:00']\n",
      "[75, 0.0006423676968552172, 0.00042695997399277985, '00:00']\n",
      "[75, 0.0006423676968552172, 0.00042695997399277985, '00:00']\n",
      "[76, 0.0005963259027339518, 0.0003436375118326396, '00:00']\n",
      "[76, 0.0005963259027339518, 0.0003436375118326396, '00:00']\n",
      "[77, 0.00047359903692267835, 0.00029284312040545046, '00:00']\n",
      "[77, 0.00047359903692267835, 0.00029284312040545046, '00:00']\n",
      "[78, 0.0004445366794243455, 0.00044612513738684356, '00:00']\n",
      "[78, 0.0004445366794243455, 0.00044612513738684356, '00:00']\n",
      "[79, 0.00038995122304186225, 0.00035306872450746596, '00:00']\n",
      "[79, 0.00038995122304186225, 0.00035306872450746596, '00:00']\n",
      "[80, 0.0003458804276306182, 0.00046416965778917074, '00:00']\n",
      "[80, 0.0003458804276306182, 0.00046416965778917074, '00:00']\n",
      "[81, 0.0003090582322329283, 0.00026424755924381316, '00:00']\n",
      "[81, 0.0003090582322329283, 0.00026424755924381316, '00:00']\n",
      "[82, 0.0002739161718636751, 0.00029586657183244824, '00:00']\n",
      "[82, 0.0002739161718636751, 0.00029586657183244824, '00:00']\n",
      "[83, 0.00028958762413822114, 0.00021456019021570683, '00:00']\n",
      "[83, 0.00028958762413822114, 0.00021456019021570683, '00:00']\n",
      "[84, 0.00022504330263473094, 0.00020050832245033234, '00:00']\n",
      "[84, 0.00022504330263473094, 0.00020050832245033234, '00:00']\n",
      "[85, 0.0001809829263947904, 0.0001451183925382793, '00:00']\n",
      "[85, 0.0001809829263947904, 0.0001451183925382793, '00:00']\n",
      "[86, 0.00016561811207793653, 0.00018276770424563438, '00:00']\n",
      "[86, 0.00016561811207793653, 0.00018276770424563438, '00:00']\n",
      "[87, 0.00015892401279415935, 0.00016331604274455458, '00:00']\n",
      "[87, 0.00015892401279415935, 0.00016331604274455458, '00:00']\n",
      "[88, 0.00014465900312643498, 0.00013981455413158983, '00:00']\n",
      "[88, 0.00014465900312643498, 0.00013981455413158983, '00:00']\n",
      "[89, 0.0001346682256553322, 0.00016218586824834347, '00:00']\n",
      "[89, 0.0001346682256553322, 0.00016218586824834347, '00:00']\n",
      "[90, 0.00012620161578524858, 0.0001374260609736666, '00:00']\n",
      "[90, 0.00012620161578524858, 0.0001374260609736666, '00:00']\n",
      "[91, 0.00011759791959775612, 0.00011821131920441985, '00:00']\n",
      "[91, 0.00011759791959775612, 0.00011821131920441985, '00:00']\n",
      "[92, 0.00010791945533128455, 0.00010707482579164207, '00:00']\n",
      "[92, 0.00010791945533128455, 0.00010707482579164207, '00:00']\n",
      "[93, 0.00010281611321261153, 0.00010488153930054978, '00:00']\n",
      "[93, 0.00010281611321261153, 0.00010488153930054978, '00:00']\n",
      "[94, 0.0001004209989332594, 0.00011224934132769704, '00:00']\n",
      "[94, 0.0001004209989332594, 0.00011224934132769704, '00:00']\n",
      "[95, 9.63262646109797e-05, 0.00010349109652452171, '00:00']\n",
      "[95, 9.63262646109797e-05, 0.00010349109652452171, '00:00']\n",
      "[96, 9.258017962565646e-05, 0.00010142848623218015, '00:00']\n",
      "[96, 9.258017962565646e-05, 0.00010142848623218015, '00:00']\n",
      "[97, 9.082045289687812e-05, 9.917031275108457e-05, '00:00']\n",
      "[97, 9.082045289687812e-05, 9.917031275108457e-05, '00:00']\n",
      "[98, 8.945611625676975e-05, 9.800562838790938e-05, '00:00']\n",
      "[98, 8.945611625676975e-05, 9.800562838790938e-05, '00:00']\n",
      "[99, 8.797425107331946e-05, 9.774785576155409e-05, '00:00']\n",
      "[99, 8.797425107331946e-05, 9.774785576155409e-05, '00:00']\n",
      "Training took 83.8105073609986 seconds\n"
     ]
    }
   ],
   "source": [
    "import time\n",
    "\n",
    "start = time.perf_counter() # Starts timer\n",
    "learn.fit_one_cycle(100, lr_min)\n",
    "end = time.perf_counter() # Ends timer\n",
    "delta_t = end - start\n",
    "print('Training took', delta_t, 'seconds')"
   ]
  },
  {
   "cell_type": "markdown",
   "metadata": {},
   "source": [
    "Then we plot the loss as a function of batches and epochs to check if we reach a plateau."
   ]
  },
  {
   "cell_type": "code",
   "execution_count": 14,
   "metadata": {},
   "outputs": [
    {
     "data": {
      "image/png": "[encoded data removed]",
      "text/plain": [
       "<Figure size 432x288 with 1 Axes>"
      ]
     },
     "metadata": {
      "needs_background": "light"
     },
     "output_type": "display_data"
    }
   ],
   "source": [
    "recorder.plot_loss()"
   ]
  },
  {
   "cell_type": "markdown",
   "metadata": {},
   "source": [
    "Then we evaluate the MSE on this network - it should be of the order of 0.001 or less if all has gone well...if it has not trained as well (note the pesky 0-mass peak above...) then it's going to be a bit higher."
   ]
  },
  {
   "cell_type": "code",
   "execution_count": 15,
   "metadata": {},
   "outputs": [
    {
     "data": {
      "text/plain": [
       "(#1) [9.774785576155409e-05]"
      ]
     },
     "execution_count": 15,
     "metadata": {},
     "output_type": "execute_result"
    }
   ],
   "source": [
    "learn.validate()"
   ]
  },
  {
   "cell_type": "markdown",
   "metadata": {},
   "source": [
    "Let's plot all of this, with ratios (thanks to code by Erik Wallin)"
   ]
  },
  {
   "cell_type": "markdown",
   "metadata": {},
   "source": [
    "## Plotting the outputs of the network"
   ]
  },
  {
   "cell_type": "markdown",
   "metadata": {},
   "source": [
    "Lazy-save of our output files (they'll also be on screen)"
   ]
  },
  {
   "cell_type": "code",
   "execution_count": 16,
   "metadata": {},
   "outputs": [],
   "source": [
    "import os\n",
    "save_dir = \"plotOutput\"\n",
    "if not os.path.exists(save_dir):\n",
    "    os.makedirs(save_dir)"
   ]
  },
  {
   "cell_type": "markdown",
   "metadata": {},
   "source": [
    "A function in case we want to un-normalize and get back to physical quantities..."
   ]
  },
  {
   "cell_type": "code",
   "execution_count": 17,
   "metadata": {},
   "outputs": [],
   "source": [
    "def custom_unnormalize(df):\n",
    "    df['E'] = 10**df['E']\n",
    "    df['pt'] = 10**(df['pt'])\n",
    "    df['eta'] = df['eta'] * 5\n",
    "    df['phi'] = df['phi'] * 3\n",
    "    return df"
   ]
  },
  {
   "cell_type": "markdown",
   "metadata": {},
   "source": [
    "Make the histograms from the dataset..."
   ]
  },
  {
   "cell_type": "code",
   "execution_count": 18,
   "metadata": {},
   "outputs": [
    {
     "data": {
      "image/png": "[encoded data removed]",
      "text/plain": [
       "<Figure size 432x288 with 1 Axes>"
      ]
     },
     "metadata": {
      "needs_background": "light"
     },
     "output_type": "display_data"
    },
    {
     "data": {
      "image/png": "[encoded data removed]",
      "text/plain": [
       "<Figure size 432x288 with 1 Axes>"
      ]
     },
     "metadata": {
      "needs_background": "light"
     },
     "output_type": "display_data"
    },
    {
     "data": {
      "image/png": "[encoded data removed]",
      "text/plain": [
       "<Figure size 432x288 with 1 Axes>"
      ]
     },
     "metadata": {
      "needs_background": "light"
     },
     "output_type": "display_data"
    },
    {
     "data": {
      "image/png": "[encoded data removed]",
      "text/plain": [
       "<Figure size 432x288 with 1 Axes>"
      ]
     },
     "metadata": {
      "needs_background": "light"
     },
     "output_type": "display_data"
    }
   ],
   "source": [
    "import numpy as np\n",
    "\n",
    "plt.close('all')\n",
    "\n",
    "variable_list = four_momentum\n",
    "line_style = ['--', '-']\n",
    "colors = ['orange', 'c']\n",
    "markers = ['*', 's']\n",
    "\n",
    "model.to('cpu')\n",
    "\n",
    "save = True # Option to save figure\n",
    "\n",
    "# Histograms\n",
    "idxs = (0, 100000)  # Choose events to compare\n",
    "data = torch.tensor(test[idxs[0]:idxs[1]].values, dtype=torch.float)\n",
    "#data = torch.tensor(test[idxs[0]:idxs[1]].values, dtype=torch.float).double()\n",
    "pred = model(data)\n",
    "pred = pred.detach().numpy()\n",
    "data = data.detach().numpy()\n",
    "\n",
    "data_df = pd.DataFrame(data, columns=test.columns)\n",
    "pred_df = pd.DataFrame(pred, columns=test.columns)\n",
    "\n",
    "unnormalized_data_df = custom_unnormalize(data_df)\n",
    "unnormalized_pred_df = custom_unnormalize(pred_df)    \n",
    "\n",
    "\n",
    "alph = 0.8\n",
    "n_bins = 200\n",
    "for kk in np.arange(4):\n",
    "    plt.figure()\n",
    "    n_hist_data, bin_edges, _ = plt.hist(data[:, kk], color=colors[1], label='Input', alpha=1, bins=n_bins)\n",
    "    n_hist_pred, _, _ = plt.hist(pred[:, kk], color=colors[0], label='Output', alpha=alph, bins=bin_edges)\n",
    "    plt.suptitle(variable_list[kk])\n",
    "    plt.xlabel(variable_list[kk])\n",
    "    plt.ylabel('Number of events')\n",
    "\n",
    "    plt.yscale('log')\n",
    "    if save:\n",
    "        plt.savefig(os.path.join(save_dir,test.columns[kk]+'.png'))\n",
    "    plt.legend()"
   ]
  },
  {
   "cell_type": "code",
   "execution_count": null,
   "metadata": {},
   "outputs": [],
   "source": []
  }
 ],
 "metadata": {
  "kernelspec": {
   "display_name": "Python 3",
   "language": "python",
   "name": "python3"
  },
  "language_info": {
   "codemirror_mode": {
    "name": "ipython",
    "version": 3
   },
   "file_extension": ".py",
   "mimetype": "text/x-python",
   "name": "python",
   "nbconvert_exporter": "python",
   "pygments_lexer": "ipython3",
   "version": "3.8.5"
  }
 },
 "nbformat": 4,
 "nbformat_minor": 4
}
